{
  "cells": [
    {
      "cell_type": "code",
      "execution_count": 38,
      "metadata": {
        "id": "0M4ncKZGmfMv"
      },
      "outputs": [],
      "source": [
        "import pandas as pd\n",
        "import numpy as np\n",
        "import seaborn as sns\n",
        "import matplotlib.pyplot as plt"
      ]
    },
    {
      "cell_type": "code",
      "execution_count": 39,
      "metadata": {
        "colab": {
          "base_uri": "https://localhost:8080/",
          "height": 617
        },
        "id": "ZCMndQcttZUw",
        "outputId": "bd9baa96-bd58-4672-d669-72ddd5a6beec"
      },
      "outputs": [
        {
          "data": {
            "text/html": [
              "<div>\n",
              "<style scoped>\n",
              "    .dataframe tbody tr th:only-of-type {\n",
              "        vertical-align: middle;\n",
              "    }\n",
              "\n",
              "    .dataframe tbody tr th {\n",
              "        vertical-align: top;\n",
              "    }\n",
              "\n",
              "    .dataframe thead th {\n",
              "        text-align: right;\n",
              "    }\n",
              "</style>\n",
              "<table border=\"1\" class=\"dataframe\">\n",
              "  <thead>\n",
              "    <tr style=\"text-align: right;\">\n",
              "      <th></th>\n",
              "      <th>CustomerID</th>\n",
              "      <th>Age</th>\n",
              "      <th>Gender</th>\n",
              "      <th>ContractType</th>\n",
              "      <th>MonthlyCharges</th>\n",
              "      <th>TotalSpent</th>\n",
              "      <th>DevicesConnected</th>\n",
              "      <th>SupportCalls</th>\n",
              "      <th>Churn</th>\n",
              "    </tr>\n",
              "  </thead>\n",
              "  <tbody>\n",
              "    <tr>\n",
              "      <th>0</th>\n",
              "      <td>1</td>\n",
              "      <td>56</td>\n",
              "      <td>Male</td>\n",
              "      <td>One Year</td>\n",
              "      <td>96.028982</td>\n",
              "      <td>1249.110874</td>\n",
              "      <td>4</td>\n",
              "      <td>5</td>\n",
              "      <td>0</td>\n",
              "    </tr>\n",
              "    <tr>\n",
              "      <th>1</th>\n",
              "      <td>2</td>\n",
              "      <td>69</td>\n",
              "      <td>Female</td>\n",
              "      <td>Two Year</td>\n",
              "      <td>33.710971</td>\n",
              "      <td>1570.074519</td>\n",
              "      <td>1</td>\n",
              "      <td>7</td>\n",
              "      <td>0</td>\n",
              "    </tr>\n",
              "    <tr>\n",
              "      <th>2</th>\n",
              "      <td>3</td>\n",
              "      <td>46</td>\n",
              "      <td>Male</td>\n",
              "      <td>Two Year</td>\n",
              "      <td>73.531013</td>\n",
              "      <td>1790.270343</td>\n",
              "      <td>4</td>\n",
              "      <td>9</td>\n",
              "      <td>1</td>\n",
              "    </tr>\n",
              "    <tr>\n",
              "      <th>3</th>\n",
              "      <td>4</td>\n",
              "      <td>32</td>\n",
              "      <td>Female</td>\n",
              "      <td>One Year</td>\n",
              "      <td>41.520187</td>\n",
              "      <td>492.452904</td>\n",
              "      <td>2</td>\n",
              "      <td>0</td>\n",
              "      <td>1</td>\n",
              "    </tr>\n",
              "    <tr>\n",
              "      <th>4</th>\n",
              "      <td>5</td>\n",
              "      <td>60</td>\n",
              "      <td>Male</td>\n",
              "      <td>Two Year</td>\n",
              "      <td>21.212077</td>\n",
              "      <td>594.571244</td>\n",
              "      <td>2</td>\n",
              "      <td>3</td>\n",
              "      <td>0</td>\n",
              "    </tr>\n",
              "    <tr>\n",
              "      <th>...</th>\n",
              "      <td>...</td>\n",
              "      <td>...</td>\n",
              "      <td>...</td>\n",
              "      <td>...</td>\n",
              "      <td>...</td>\n",
              "      <td>...</td>\n",
              "      <td>...</td>\n",
              "      <td>...</td>\n",
              "      <td>...</td>\n",
              "    </tr>\n",
              "    <tr>\n",
              "      <th>995</th>\n",
              "      <td>996</td>\n",
              "      <td>37</td>\n",
              "      <td>Male</td>\n",
              "      <td>Month-to-Month</td>\n",
              "      <td>34.080295</td>\n",
              "      <td>1054.704236</td>\n",
              "      <td>1</td>\n",
              "      <td>9</td>\n",
              "      <td>1</td>\n",
              "    </tr>\n",
              "    <tr>\n",
              "      <th>996</th>\n",
              "      <td>997</td>\n",
              "      <td>41</td>\n",
              "      <td>Male</td>\n",
              "      <td>One Year</td>\n",
              "      <td>82.241364</td>\n",
              "      <td>1664.320414</td>\n",
              "      <td>3</td>\n",
              "      <td>1</td>\n",
              "      <td>0</td>\n",
              "    </tr>\n",
              "    <tr>\n",
              "      <th>997</th>\n",
              "      <td>998</td>\n",
              "      <td>22</td>\n",
              "      <td>Male</td>\n",
              "      <td>One Year</td>\n",
              "      <td>98.132186</td>\n",
              "      <td>1156.592237</td>\n",
              "      <td>5</td>\n",
              "      <td>3</td>\n",
              "      <td>1</td>\n",
              "    </tr>\n",
              "    <tr>\n",
              "      <th>998</th>\n",
              "      <td>999</td>\n",
              "      <td>51</td>\n",
              "      <td>Male</td>\n",
              "      <td>Two Year</td>\n",
              "      <td>77.829840</td>\n",
              "      <td>696.748306</td>\n",
              "      <td>5</td>\n",
              "      <td>5</td>\n",
              "      <td>1</td>\n",
              "    </tr>\n",
              "    <tr>\n",
              "      <th>999</th>\n",
              "      <td>1000</td>\n",
              "      <td>23</td>\n",
              "      <td>Female</td>\n",
              "      <td>Month-to-Month</td>\n",
              "      <td>34.696271</td>\n",
              "      <td>1227.952098</td>\n",
              "      <td>4</td>\n",
              "      <td>4</td>\n",
              "      <td>0</td>\n",
              "    </tr>\n",
              "  </tbody>\n",
              "</table>\n",
              "<p>1000 rows × 9 columns</p>\n",
              "</div>"
            ],
            "text/plain": [
              "     CustomerID  Age  Gender    ContractType  MonthlyCharges   TotalSpent  \\\n",
              "0             1   56    Male        One Year       96.028982  1249.110874   \n",
              "1             2   69  Female        Two Year       33.710971  1570.074519   \n",
              "2             3   46    Male        Two Year       73.531013  1790.270343   \n",
              "3             4   32  Female        One Year       41.520187   492.452904   \n",
              "4             5   60    Male        Two Year       21.212077   594.571244   \n",
              "..          ...  ...     ...             ...             ...          ...   \n",
              "995         996   37    Male  Month-to-Month       34.080295  1054.704236   \n",
              "996         997   41    Male        One Year       82.241364  1664.320414   \n",
              "997         998   22    Male        One Year       98.132186  1156.592237   \n",
              "998         999   51    Male        Two Year       77.829840   696.748306   \n",
              "999        1000   23  Female  Month-to-Month       34.696271  1227.952098   \n",
              "\n",
              "     DevicesConnected  SupportCalls  Churn  \n",
              "0                   4             5      0  \n",
              "1                   1             7      0  \n",
              "2                   4             9      1  \n",
              "3                   2             0      1  \n",
              "4                   2             3      0  \n",
              "..                ...           ...    ...  \n",
              "995                 1             9      1  \n",
              "996                 3             1      0  \n",
              "997                 5             3      1  \n",
              "998                 5             5      1  \n",
              "999                 4             4      0  \n",
              "\n",
              "[1000 rows x 9 columns]"
            ]
          },
          "execution_count": 39,
          "metadata": {},
          "output_type": "execute_result"
        }
      ],
      "source": [
        "df=pd.read_csv(\"tele.csv\")\n",
        "df"
      ]
    },
    {
      "cell_type": "markdown",
      "metadata": {
        "id": "n6CfGlrDoOk5"
      },
      "source": [
        "# Basic understand of data"
      ]
    },
    {
      "cell_type": "code",
      "execution_count": 40,
      "metadata": {
        "colab": {
          "base_uri": "https://localhost:8080/"
        },
        "id": "Si6zOeni_38K",
        "outputId": "4334737c-a968-499d-da53-a0fda0113bb1"
      },
      "outputs": [
        {
          "data": {
            "text/plain": [
              "(1000, 9)"
            ]
          },
          "execution_count": 40,
          "metadata": {},
          "output_type": "execute_result"
        }
      ],
      "source": [
        "df.shape"
      ]
    },
    {
      "cell_type": "code",
      "execution_count": 41,
      "metadata": {
        "colab": {
          "base_uri": "https://localhost:8080/"
        },
        "id": "s6GtSrvmfTUl",
        "outputId": "2db21012-0e59-45af-f80d-40e4d47a7d2d"
      },
      "outputs": [
        {
          "data": {
            "text/plain": [
              "Index(['CustomerID', 'Age', 'Gender', 'ContractType', 'MonthlyCharges',\n",
              "       'TotalSpent', 'DevicesConnected', 'SupportCalls', 'Churn'],\n",
              "      dtype='object')"
            ]
          },
          "execution_count": 41,
          "metadata": {},
          "output_type": "execute_result"
        }
      ],
      "source": [
        "df.columns"
      ]
    },
    {
      "cell_type": "code",
      "execution_count": 42,
      "metadata": {
        "colab": {
          "base_uri": "https://localhost:8080/"
        },
        "id": "Dy32LJX6iq2C",
        "outputId": "c85be827-131d-46e0-cdd3-77f15b3a7912"
      },
      "outputs": [
        {
          "name": "stdout",
          "output_type": "stream",
          "text": [
            "<class 'pandas.core.frame.DataFrame'>\n",
            "RangeIndex: 1000 entries, 0 to 999\n",
            "Data columns (total 9 columns):\n",
            " #   Column            Non-Null Count  Dtype  \n",
            "---  ------            --------------  -----  \n",
            " 0   CustomerID        1000 non-null   int64  \n",
            " 1   Age               1000 non-null   int64  \n",
            " 2   Gender            1000 non-null   object \n",
            " 3   ContractType      1000 non-null   object \n",
            " 4   MonthlyCharges    1000 non-null   float64\n",
            " 5   TotalSpent        1000 non-null   float64\n",
            " 6   DevicesConnected  1000 non-null   int64  \n",
            " 7   SupportCalls      1000 non-null   int64  \n",
            " 8   Churn             1000 non-null   int64  \n",
            "dtypes: float64(2), int64(5), object(2)\n",
            "memory usage: 70.4+ KB\n"
          ]
        }
      ],
      "source": [
        "df.info()"
      ]
    },
    {
      "cell_type": "code",
      "execution_count": 43,
      "metadata": {
        "colab": {
          "base_uri": "https://localhost:8080/",
          "height": 300
        },
        "id": "EnKqr7in_gcC",
        "outputId": "9468be12-14f4-464e-ad42-c6b3c4aa2dd0"
      },
      "outputs": [
        {
          "data": {
            "text/html": [
              "<div>\n",
              "<style scoped>\n",
              "    .dataframe tbody tr th:only-of-type {\n",
              "        vertical-align: middle;\n",
              "    }\n",
              "\n",
              "    .dataframe tbody tr th {\n",
              "        vertical-align: top;\n",
              "    }\n",
              "\n",
              "    .dataframe thead th {\n",
              "        text-align: right;\n",
              "    }\n",
              "</style>\n",
              "<table border=\"1\" class=\"dataframe\">\n",
              "  <thead>\n",
              "    <tr style=\"text-align: right;\">\n",
              "      <th></th>\n",
              "      <th>CustomerID</th>\n",
              "      <th>Age</th>\n",
              "      <th>MonthlyCharges</th>\n",
              "      <th>TotalSpent</th>\n",
              "      <th>DevicesConnected</th>\n",
              "      <th>SupportCalls</th>\n",
              "      <th>Churn</th>\n",
              "    </tr>\n",
              "  </thead>\n",
              "  <tbody>\n",
              "    <tr>\n",
              "      <th>count</th>\n",
              "      <td>1000.000000</td>\n",
              "      <td>1000.000000</td>\n",
              "      <td>1000.000000</td>\n",
              "      <td>1000.000000</td>\n",
              "      <td>1000.000000</td>\n",
              "      <td>1000.000000</td>\n",
              "      <td>1000.000000</td>\n",
              "    </tr>\n",
              "    <tr>\n",
              "      <th>mean</th>\n",
              "      <td>500.500000</td>\n",
              "      <td>46.247000</td>\n",
              "      <td>69.796056</td>\n",
              "      <td>999.657900</td>\n",
              "      <td>3.007000</td>\n",
              "      <td>4.545000</td>\n",
              "      <td>0.499000</td>\n",
              "    </tr>\n",
              "    <tr>\n",
              "      <th>std</th>\n",
              "      <td>288.819436</td>\n",
              "      <td>16.288072</td>\n",
              "      <td>28.811134</td>\n",
              "      <td>495.841431</td>\n",
              "      <td>1.402469</td>\n",
              "      <td>2.906962</td>\n",
              "      <td>0.500249</td>\n",
              "    </tr>\n",
              "    <tr>\n",
              "      <th>min</th>\n",
              "      <td>1.000000</td>\n",
              "      <td>18.000000</td>\n",
              "      <td>20.013469</td>\n",
              "      <td>-495.567985</td>\n",
              "      <td>1.000000</td>\n",
              "      <td>0.000000</td>\n",
              "      <td>0.000000</td>\n",
              "    </tr>\n",
              "    <tr>\n",
              "      <th>25%</th>\n",
              "      <td>250.750000</td>\n",
              "      <td>33.000000</td>\n",
              "      <td>45.995207</td>\n",
              "      <td>674.729914</td>\n",
              "      <td>2.000000</td>\n",
              "      <td>2.000000</td>\n",
              "      <td>0.000000</td>\n",
              "    </tr>\n",
              "    <tr>\n",
              "      <th>50%</th>\n",
              "      <td>500.500000</td>\n",
              "      <td>46.000000</td>\n",
              "      <td>69.932841</td>\n",
              "      <td>996.970666</td>\n",
              "      <td>3.000000</td>\n",
              "      <td>5.000000</td>\n",
              "      <td>0.000000</td>\n",
              "    </tr>\n",
              "    <tr>\n",
              "      <th>75%</th>\n",
              "      <td>750.250000</td>\n",
              "      <td>60.250000</td>\n",
              "      <td>94.941426</td>\n",
              "      <td>1325.616340</td>\n",
              "      <td>4.000000</td>\n",
              "      <td>7.000000</td>\n",
              "      <td>1.000000</td>\n",
              "    </tr>\n",
              "    <tr>\n",
              "      <th>max</th>\n",
              "      <td>1000.000000</td>\n",
              "      <td>74.000000</td>\n",
              "      <td>119.834751</td>\n",
              "      <td>2963.118853</td>\n",
              "      <td>5.000000</td>\n",
              "      <td>9.000000</td>\n",
              "      <td>1.000000</td>\n",
              "    </tr>\n",
              "  </tbody>\n",
              "</table>\n",
              "</div>"
            ],
            "text/plain": [
              "        CustomerID          Age  MonthlyCharges   TotalSpent  \\\n",
              "count  1000.000000  1000.000000     1000.000000  1000.000000   \n",
              "mean    500.500000    46.247000       69.796056   999.657900   \n",
              "std     288.819436    16.288072       28.811134   495.841431   \n",
              "min       1.000000    18.000000       20.013469  -495.567985   \n",
              "25%     250.750000    33.000000       45.995207   674.729914   \n",
              "50%     500.500000    46.000000       69.932841   996.970666   \n",
              "75%     750.250000    60.250000       94.941426  1325.616340   \n",
              "max    1000.000000    74.000000      119.834751  2963.118853   \n",
              "\n",
              "       DevicesConnected  SupportCalls        Churn  \n",
              "count       1000.000000   1000.000000  1000.000000  \n",
              "mean           3.007000      4.545000     0.499000  \n",
              "std            1.402469      2.906962     0.500249  \n",
              "min            1.000000      0.000000     0.000000  \n",
              "25%            2.000000      2.000000     0.000000  \n",
              "50%            3.000000      5.000000     0.000000  \n",
              "75%            4.000000      7.000000     1.000000  \n",
              "max            5.000000      9.000000     1.000000  "
            ]
          },
          "execution_count": 43,
          "metadata": {},
          "output_type": "execute_result"
        }
      ],
      "source": [
        "df.describe()"
      ]
    },
    {
      "cell_type": "code",
      "execution_count": 44,
      "metadata": {
        "colab": {
          "base_uri": "https://localhost:8080/",
          "height": 742
        },
        "id": "JpFq72-R_rzP",
        "outputId": "dce42ecf-3152-4e46-e7c7-eac94f26c8df"
      },
      "outputs": [
        {
          "data": {
            "text/plain": [
              "CustomerID            int64\n",
              "Age                   int64\n",
              "Gender               object\n",
              "ContractType         object\n",
              "MonthlyCharges      float64\n",
              "TotalSpent          float64\n",
              "DevicesConnected      int64\n",
              "SupportCalls          int64\n",
              "Churn                 int64\n",
              "dtype: object"
            ]
          },
          "execution_count": 44,
          "metadata": {},
          "output_type": "execute_result"
        }
      ],
      "source": [
        "df.dtypes"
      ]
    },
    {
      "cell_type": "markdown",
      "metadata": {
        "id": "3hTmWT4VBIR1"
      },
      "source": [
        "# Data Cleaning"
      ]
    },
    {
      "cell_type": "code",
      "execution_count": 45,
      "metadata": {
        "colab": {
          "base_uri": "https://localhost:8080/",
          "height": 742
        },
        "id": "u0RH9vP9VeRj",
        "outputId": "ac7296e6-fefe-4724-ef6c-434065f5f29b"
      },
      "outputs": [
        {
          "data": {
            "text/plain": [
              "CustomerID          0\n",
              "Age                 0\n",
              "Gender              0\n",
              "ContractType        0\n",
              "MonthlyCharges      0\n",
              "TotalSpent          0\n",
              "DevicesConnected    0\n",
              "SupportCalls        0\n",
              "Churn               0\n",
              "dtype: int64"
            ]
          },
          "execution_count": 45,
          "metadata": {},
          "output_type": "execute_result"
        }
      ],
      "source": [
        "# To count the null values\n",
        "df.isnull().sum()"
      ]
    },
    {
      "cell_type": "code",
      "execution_count": 46,
      "metadata": {
        "colab": {
          "base_uri": "https://localhost:8080/"
        },
        "id": "cDeopjEXB97B",
        "outputId": "d6a79d01-3b8c-4687-adc8-ab3b710b6d9f"
      },
      "outputs": [
        {
          "name": "stdout",
          "output_type": "stream",
          "text": [
            "Number of duplicated rows: 0\n"
          ]
        }
      ],
      "source": [
        "# Find all duplicated rows\n",
        "duplicates = df[df.duplicated()]\n",
        "\n",
        "# Count the number of duplicated rows\n",
        "duplicate_count = duplicates.shape[0]\n",
        "\n",
        "print(f\"Number of duplicated rows: {duplicate_count}\")"
      ]
    },
    {
      "cell_type": "code",
      "execution_count": 47,
      "metadata": {
        "colab": {
          "base_uri": "https://localhost:8080/"
        },
        "id": "QtEn5OrGjdzi",
        "outputId": "feb8dcf6-71fe-45f8-df02-03270383a015"
      },
      "outputs": [
        {
          "name": "stdout",
          "output_type": "stream",
          "text": [
            "nunique CustomerID\n",
            "1000\n",
            " \n",
            "nunique Age\n",
            "57\n",
            " \n",
            "nunique Gender\n",
            "2\n",
            " \n",
            "nunique ContractType\n",
            "3\n",
            " \n",
            "nunique MonthlyCharges\n",
            "1000\n",
            " \n",
            "nunique TotalSpent\n",
            "1000\n",
            " \n",
            "nunique DevicesConnected\n",
            "5\n",
            " \n",
            "nunique SupportCalls\n",
            "10\n",
            " \n",
            "nunique Churn\n",
            "2\n",
            " \n"
          ]
        }
      ],
      "source": [
        "for x in df.columns:\n",
        "  print(\"nunique\",x)\n",
        "  print(df[x].nunique())\n",
        "  print(\" \")"
      ]
    },
    {
      "cell_type": "code",
      "execution_count": 48,
      "metadata": {
        "colab": {
          "base_uri": "https://localhost:8080/"
        },
        "id": "qgzfznRPi3FS",
        "outputId": "497fe606-9585-4e4f-dcd5-c68f4799e51c"
      },
      "outputs": [
        {
          "name": "stdout",
          "output_type": "stream",
          "text": [
            "<class 'pandas.core.frame.DataFrame'>\n",
            "RangeIndex: 1000 entries, 0 to 999\n",
            "Data columns (total 9 columns):\n",
            " #   Column            Non-Null Count  Dtype  \n",
            "---  ------            --------------  -----  \n",
            " 0   CustomerID        1000 non-null   int64  \n",
            " 1   Age               1000 non-null   int64  \n",
            " 2   Gender            1000 non-null   object \n",
            " 3   ContractType      1000 non-null   object \n",
            " 4   MonthlyCharges    1000 non-null   float64\n",
            " 5   TotalSpent        1000 non-null   float64\n",
            " 6   DevicesConnected  1000 non-null   int64  \n",
            " 7   SupportCalls      1000 non-null   int64  \n",
            " 8   Churn             1000 non-null   int64  \n",
            "dtypes: float64(2), int64(5), object(2)\n",
            "memory usage: 70.4+ KB\n"
          ]
        }
      ],
      "source": [
        "df.info()"
      ]
    },
    {
      "cell_type": "code",
      "execution_count": 49,
      "metadata": {
        "colab": {
          "base_uri": "https://localhost:8080/"
        },
        "id": "pp_HmS3Yt8II",
        "outputId": "2b00b88c-5035-4bd2-d66c-c72d6368f4df"
      },
      "outputs": [
        {
          "data": {
            "text/plain": [
              "Index(['CustomerID', 'Age', 'Gender', 'ContractType', 'MonthlyCharges',\n",
              "       'TotalSpent', 'DevicesConnected', 'SupportCalls', 'Churn'],\n",
              "      dtype='object')"
            ]
          },
          "execution_count": 49,
          "metadata": {},
          "output_type": "execute_result"
        }
      ],
      "source": [
        "df.columns"
      ]
    },
    {
      "cell_type": "code",
      "execution_count": 50,
      "metadata": {
        "colab": {
          "base_uri": "https://localhost:8080/"
        },
        "id": "T985fs06tx-A",
        "outputId": "cd03a6c9-a151-49bb-9076-8a3ac92ad956"
      },
      "outputs": [
        {
          "name": "stdout",
          "output_type": "stream",
          "text": [
            "     CustomerID  Age  Gender  ContractType  MonthlyCharges   TotalSpent  \\\n",
            "0             1   56       1             1       96.028982  1249.110874   \n",
            "1             2   69       0             2       33.710971  1570.074519   \n",
            "2             3   46       1             2       73.531013  1790.270343   \n",
            "3             4   32       0             1       41.520187   492.452904   \n",
            "4             5   60       1             2       21.212077   594.571244   \n",
            "..          ...  ...     ...           ...             ...          ...   \n",
            "995         996   37       1             0       34.080295  1054.704236   \n",
            "996         997   41       1             1       82.241364  1664.320414   \n",
            "997         998   22       1             1       98.132186  1156.592237   \n",
            "998         999   51       1             2       77.829840   696.748306   \n",
            "999        1000   23       0             0       34.696271  1227.952098   \n",
            "\n",
            "     DevicesConnected  SupportCalls  Churn  \n",
            "0                   4             5      0  \n",
            "1                   1             7      0  \n",
            "2                   4             9      1  \n",
            "3                   2             0      1  \n",
            "4                   2             3      0  \n",
            "..                ...           ...    ...  \n",
            "995                 1             9      1  \n",
            "996                 3             1      0  \n",
            "997                 5             3      1  \n",
            "998                 5             5      1  \n",
            "999                 4             4      0  \n",
            "\n",
            "[1000 rows x 9 columns]\n"
          ]
        }
      ],
      "source": [
        "from sklearn.preprocessing import LabelEncoder\n",
        "\n",
        "label_encoders = {}\n",
        "\n",
        "# Apply Label Encoding to all categorical columns\n",
        "for col in df.select_dtypes(include=['object']).columns:\n",
        "    le = LabelEncoder()\n",
        "    df[col] = le.fit_transform(df[col])\n",
        "    label_encoders[col] = le  # Store encoders if you need to inverse transform later\n",
        "\n",
        "print(df)"
      ]
    },
    {
      "cell_type": "code",
      "execution_count": 51,
      "metadata": {
        "colab": {
          "base_uri": "https://localhost:8080/"
        },
        "id": "28Xro5HQkz2Z",
        "outputId": "f1aa22e4-8b25-4b96-b464-7216201033e8"
      },
      "outputs": [
        {
          "name": "stdout",
          "output_type": "stream",
          "text": [
            "Column: CustomerID\n",
            "CustomerID\n",
            "1       1\n",
            "672     1\n",
            "659     1\n",
            "660     1\n",
            "661     1\n",
            "       ..\n",
            "339     1\n",
            "340     1\n",
            "341     1\n",
            "342     1\n",
            "1000    1\n",
            "Name: count, Length: 1000, dtype: int64\n",
            " \n",
            "Column: Age\n",
            "Age\n",
            "50    27\n",
            "52    26\n",
            "45    26\n",
            "66    24\n",
            "56    23\n",
            "49    23\n",
            "54    22\n",
            "18    22\n",
            "41    22\n",
            "70    22\n",
            "43    22\n",
            "22    21\n",
            "71    21\n",
            "42    20\n",
            "29    20\n",
            "69    20\n",
            "40    20\n",
            "19    19\n",
            "61    19\n",
            "34    19\n",
            "68    19\n",
            "53    19\n",
            "65    19\n",
            "62    19\n",
            "25    19\n",
            "33    19\n",
            "46    18\n",
            "20    18\n",
            "72    17\n",
            "64    17\n",
            "36    17\n",
            "47    17\n",
            "26    16\n",
            "38    16\n",
            "39    16\n",
            "74    16\n",
            "59    15\n",
            "51    15\n",
            "30    15\n",
            "58    15\n",
            "67    15\n",
            "32    14\n",
            "28    14\n",
            "27    14\n",
            "23    14\n",
            "57    14\n",
            "37    14\n",
            "31    14\n",
            "44    14\n",
            "55    13\n",
            "21    13\n",
            "35    13\n",
            "24    13\n",
            "48    12\n",
            "73    11\n",
            "63    11\n",
            "60     7\n",
            "Name: count, dtype: int64\n",
            " \n",
            "Column: Gender\n",
            "Gender\n",
            "1    523\n",
            "0    477\n",
            "Name: count, dtype: int64\n",
            " \n",
            "Column: ContractType\n",
            "ContractType\n",
            "1    351\n",
            "0    336\n",
            "2    313\n",
            "Name: count, dtype: int64\n",
            " \n",
            "Column: MonthlyCharges\n",
            "MonthlyCharges\n",
            "96.028982     1\n",
            "58.798676     1\n",
            "56.459373     1\n",
            "41.789255     1\n",
            "118.803597    1\n",
            "             ..\n",
            "30.547370     1\n",
            "85.678010     1\n",
            "102.210316    1\n",
            "58.042001     1\n",
            "34.696271     1\n",
            "Name: count, Length: 1000, dtype: int64\n",
            " \n",
            "Column: TotalSpent\n",
            "TotalSpent\n",
            "1249.110874    1\n",
            "863.003459     1\n",
            "860.558303     1\n",
            "1422.578986    1\n",
            "975.551408     1\n",
            "              ..\n",
            "1285.306499    1\n",
            "1484.092330    1\n",
            "834.345808     1\n",
            "693.881633     1\n",
            "1227.952098    1\n",
            "Name: count, Length: 1000, dtype: int64\n",
            " \n",
            "Column: DevicesConnected\n",
            "DevicesConnected\n",
            "3    208\n",
            "4    201\n",
            "2    200\n",
            "5    197\n",
            "1    194\n",
            "Name: count, dtype: int64\n",
            " \n",
            "Column: SupportCalls\n",
            "SupportCalls\n",
            "9    121\n",
            "6    113\n",
            "1    110\n",
            "4    102\n",
            "3    100\n",
            "0     97\n",
            "5     95\n",
            "7     89\n",
            "2     87\n",
            "8     86\n",
            "Name: count, dtype: int64\n",
            " \n",
            "Column: Churn\n",
            "Churn\n",
            "0    501\n",
            "1    499\n",
            "Name: count, dtype: int64\n",
            " \n"
          ]
        }
      ],
      "source": [
        "for x in df.columns:\n",
        "    print(f\"Column: {x}\")\n",
        "    print(df[x].value_counts())  # Shows unique values and their counts\n",
        "    print(\" \")\n"
      ]
    },
    {
      "cell_type": "code",
      "execution_count": 52,
      "metadata": {
        "colab": {
          "base_uri": "https://localhost:8080/",
          "height": 345
        },
        "id": "6UDV-BgKWed_",
        "outputId": "158ee2b8-b53c-47df-b8e8-5799c8f6b154"
      },
      "outputs": [
        {
          "data": {
            "image/png": "[encoded data removed]",
            "text/plain": [
              "<Figure size 1900x1000 with 9 Axes>"
            ]
          },
          "metadata": {},
          "output_type": "display_data"
        }
      ],
      "source": [
        "# Histogram\n",
        "df.hist(edgecolor='black',figsize=(19,10))\n",
        "plt.suptitle('Histograms of customer churn prediction',fontsize=16)\n",
        "plt.tight_layout()\n",
        "plt.show()"
      ]
    },
    {
      "cell_type": "markdown",
      "metadata": {
        "id": "SOIOKQRpXzCN"
      },
      "source": [
        "# Correlation analysis"
      ]
    },
    {
      "cell_type": "code",
      "execution_count": 53,
      "metadata": {
        "colab": {
          "base_uri": "https://localhost:8080/",
          "height": 596
        },
        "id": "76PMJMPsWnKJ",
        "outputId": "a9c0bbd2-f5f6-47a4-8eb2-f421b48985a7"
      },
      "outputs": [
        {
          "data": {
            "image/png": "[encoded data removed]",
            "text/plain": [
              "<Figure size 1200x1000 with 2 Axes>"
            ]
          },
          "metadata": {},
          "output_type": "display_data"
        }
      ],
      "source": [
        "# Correlation matrix heatmap\n",
        "import matplotlib.pyplot as plt\n",
        "\n",
        "correlation_matrix = df.corr()\n",
        "plt.figure(figsize=(12, 10))\n",
        "sns.heatmap(correlation_matrix, annot=True, cmap='coolwarm', fmt=\".2f\")\n",
        "plt.title('Correlation Matrix')\n",
        "plt.show()"
      ]
    },
    {
      "cell_type": "code",
      "execution_count": 54,
      "metadata": {
        "colab": {
          "base_uri": "https://localhost:8080/",
          "height": 742
        },
        "id": "LBIHKYq87RqE",
        "outputId": "d7c5e35c-25cc-48e9-85d3-02e6f522e3d2"
      },
      "outputs": [
        {
          "data": {
            "text/plain": [
              "CustomerID          0.000000\n",
              "Age                -0.042474\n",
              "Gender             -0.092236\n",
              "ContractType        0.041726\n",
              "MonthlyCharges     -0.030369\n",
              "TotalSpent          0.027625\n",
              "DevicesConnected   -0.005914\n",
              "SupportCalls        0.003777\n",
              "Churn               0.004006\n",
              "dtype: float64"
            ]
          },
          "execution_count": 54,
          "metadata": {},
          "output_type": "execute_result"
        }
      ],
      "source": [
        "df.skew()"
      ]
    },
    {
      "cell_type": "code",
      "execution_count": 55,
      "metadata": {
        "id": "ShkiDpwoltRZ"
      },
      "outputs": [],
      "source": [
        "import pandas as pd\n",
        "import numpy as np\n",
        "from sklearn.model_selection import train_test_split\n",
        "from sklearn.preprocessing import StandardScaler\n",
        "from sklearn.ensemble import GradientBoostingClassifier\n",
        "from sklearn.tree import DecisionTreeClassifier\n",
        "from sklearn.ensemble import RandomForestClassifier\n",
        "from sklearn.metrics import accuracy_score, classification_report, confusion_matrix\n",
        "from sklearn.preprocessing import MinMaxScaler"
      ]
    },
    {
      "cell_type": "code",
      "execution_count": 56,
      "metadata": {
        "id": "145qEsJeltxB"
      },
      "outputs": [],
      "source": [
        "X = df.drop(columns=['Churn'])\n",
        "y = df['Churn']"
      ]
    },
    {
      "cell_type": "code",
      "execution_count": 57,
      "metadata": {
        "id": "_waGqY9HlvQx"
      },
      "outputs": [],
      "source": [
        "scaler = MinMaxScaler()\n",
        "X = scaler.fit_transform(X)"
      ]
    },
    {
      "cell_type": "code",
      "execution_count": 58,
      "metadata": {
        "id": "RdRSPnqglyLp"
      },
      "outputs": [],
      "source": [
        "X_train, X_test, y_train, y_test = train_test_split(X, y, test_size=0.2, random_state=42)"
      ]
    },
    {
      "cell_type": "code",
      "execution_count": 59,
      "metadata": {
        "id": "HtAH63I_TvNV"
      },
      "outputs": [],
      "source": [
        "# model = GradientBoostingClassifier(n_estimators=400,\n",
        "#                                    learning_rate=0.05,\n",
        "#                                    random_state=100)\n",
        "# model.fit(X_train, y_train)"
      ]
    },
    {
      "cell_type": "code",
      "execution_count": 60,
      "metadata": {
        "colab": {
          "base_uri": "https://localhost:8080/",
          "height": 80
        },
        "id": "crbsHPHdsdyQ",
        "outputId": "2faeac79-2729-44f5-dc4b-242d67a81b45"
      },
      "outputs": [
        {
          "data": {
            "text/html": [
              "<style>#sk-container-id-2 {\n",
              "  /* Definition of color scheme common for light and dark mode */\n",
              "  --sklearn-color-text: #000;\n",
              "  --sklearn-color-text-muted: #666;\n",
              "  --sklearn-color-line: gray;\n",
              "  /* Definition of color scheme for unfitted estimators */\n",
              "  --sklearn-color-unfitted-level-0: #fff5e6;\n",
              "  --sklearn-color-unfitted-level-1: #f6e4d2;\n",
              "  --sklearn-color-unfitted-level-2: #ffe0b3;\n",
              "  --sklearn-color-unfitted-level-3: chocolate;\n",
              "  /* Definition of color scheme for fitted estimators */\n",
              "  --sklearn-color-fitted-level-0: #f0f8ff;\n",
              "  --sklearn-color-fitted-level-1: #d4ebff;\n",
              "  --sklearn-color-fitted-level-2: #b3dbfd;\n",
              "  --sklearn-color-fitted-level-3: cornflowerblue;\n",
              "\n",
              "  /* Specific color for light theme */\n",
              "  --sklearn-color-text-on-default-background: var(--sg-text-color, var(--theme-code-foreground, var(--jp-content-font-color1, black)));\n",
              "  --sklearn-color-background: var(--sg-background-color, var(--theme-background, var(--jp-layout-color0, white)));\n",
              "  --sklearn-color-border-box: var(--sg-text-color, var(--theme-code-foreground, var(--jp-content-font-color1, black)));\n",
              "  --sklearn-color-icon: #696969;\n",
              "\n",
              "  @media (prefers-color-scheme: dark) {\n",
              "    /* Redefinition of color scheme for dark theme */\n",
              "    --sklearn-color-text-on-default-background: var(--sg-text-color, var(--theme-code-foreground, var(--jp-content-font-color1, white)));\n",
              "    --sklearn-color-background: var(--sg-background-color, var(--theme-background, var(--jp-layout-color0, #111)));\n",
              "    --sklearn-color-border-box: var(--sg-text-color, var(--theme-code-foreground, var(--jp-content-font-color1, white)));\n",
              "    --sklearn-color-icon: #878787;\n",
              "  }\n",
              "}\n",
              "\n",
              "#sk-container-id-2 {\n",
              "  color: var(--sklearn-color-text);\n",
              "}\n",
              "\n",
              "#sk-container-id-2 pre {\n",
              "  padding: 0;\n",
              "}\n",
              "\n",
              "#sk-container-id-2 input.sk-hidden--visually {\n",
              "  border: 0;\n",
              "  clip: rect(1px 1px 1px 1px);\n",
              "  clip: rect(1px, 1px, 1px, 1px);\n",
              "  height: 1px;\n",
              "  margin: -1px;\n",
              "  overflow: hidden;\n",
              "  padding: 0;\n",
              "  position: absolute;\n",
              "  width: 1px;\n",
              "}\n",
              "\n",
              "#sk-container-id-2 div.sk-dashed-wrapped {\n",
              "  border: 1px dashed var(--sklearn-color-line);\n",
              "  margin: 0 0.4em 0.5em 0.4em;\n",
              "  box-sizing: border-box;\n",
              "  padding-bottom: 0.4em;\n",
              "  background-color: var(--sklearn-color-background);\n",
              "}\n",
              "\n",
              "#sk-container-id-2 div.sk-container {\n",
              "  /* jupyter's `normalize.less` sets `[hidden] { display: none; }`\n",
              "     but bootstrap.min.css set `[hidden] { display: none !important; }`\n",
              "     so we also need the `!important` here to be able to override the\n",
              "     default hidden behavior on the sphinx rendered scikit-learn.org.\n",
              "     See: https://github.com/scikit-learn/scikit-learn/issues/21755 */\n",
              "  display: inline-block !important;\n",
              "  position: relative;\n",
              "}\n",
              "\n",
              "#sk-container-id-2 div.sk-text-repr-fallback {\n",
              "  display: none;\n",
              "}\n",
              "\n",
              "div.sk-parallel-item,\n",
              "div.sk-serial,\n",
              "div.sk-item {\n",
              "  /* draw centered vertical line to link estimators */\n",
              "  background-image: linear-gradient(var(--sklearn-color-text-on-default-background), var(--sklearn-color-text-on-default-background));\n",
              "  background-size: 2px 100%;\n",
              "  background-repeat: no-repeat;\n",
              "  background-position: center center;\n",
              "}\n",
              "\n",
              "/* Parallel-specific style estimator block */\n",
              "\n",
              "#sk-container-id-2 div.sk-parallel-item::after {\n",
              "  content: \"\";\n",
              "  width: 100%;\n",
              "  border-bottom: 2px solid var(--sklearn-color-text-on-default-background);\n",
              "  flex-grow: 1;\n",
              "}\n",
              "\n",
              "#sk-container-id-2 div.sk-parallel {\n",
              "  display: flex;\n",
              "  align-items: stretch;\n",
              "  justify-content: center;\n",
              "  background-color: var(--sklearn-color-background);\n",
              "  position: relative;\n",
              "}\n",
              "\n",
              "#sk-container-id-2 div.sk-parallel-item {\n",
              "  display: flex;\n",
              "  flex-direction: column;\n",
              "}\n",
              "\n",
              "#sk-container-id-2 div.sk-parallel-item:first-child::after {\n",
              "  align-self: flex-end;\n",
              "  width: 50%;\n",
              "}\n",
              "\n",
              "#sk-container-id-2 div.sk-parallel-item:last-child::after {\n",
              "  align-self: flex-start;\n",
              "  width: 50%;\n",
              "}\n",
              "\n",
              "#sk-container-id-2 div.sk-parallel-item:only-child::after {\n",
              "  width: 0;\n",
              "}\n",
              "\n",
              "/* Serial-specific style estimator block */\n",
              "\n",
              "#sk-container-id-2 div.sk-serial {\n",
              "  display: flex;\n",
              "  flex-direction: column;\n",
              "  align-items: center;\n",
              "  background-color: var(--sklearn-color-background);\n",
              "  padding-right: 1em;\n",
              "  padding-left: 1em;\n",
              "}\n",
              "\n",
              "\n",
              "/* Toggleable style: style used for estimator/Pipeline/ColumnTransformer box that is\n",
              "clickable and can be expanded/collapsed.\n",
              "- Pipeline and ColumnTransformer use this feature and define the default style\n",
              "- Estimators will overwrite some part of the style using the `sk-estimator` class\n",
              "*/\n",
              "\n",
              "/* Pipeline and ColumnTransformer style (default) */\n",
              "\n",
              "#sk-container-id-2 div.sk-toggleable {\n",
              "  /* Default theme specific background. It is overwritten whether we have a\n",
              "  specific estimator or a Pipeline/ColumnTransformer */\n",
              "  background-color: var(--sklearn-color-background);\n",
              "}\n",
              "\n",
              "/* Toggleable label */\n",
              "#sk-container-id-2 label.sk-toggleable__label {\n",
              "  cursor: pointer;\n",
              "  display: flex;\n",
              "  width: 100%;\n",
              "  margin-bottom: 0;\n",
              "  padding: 0.5em;\n",
              "  box-sizing: border-box;\n",
              "  text-align: center;\n",
              "  align-items: start;\n",
              "  justify-content: space-between;\n",
              "  gap: 0.5em;\n",
              "}\n",
              "\n",
              "#sk-container-id-2 label.sk-toggleable__label .caption {\n",
              "  font-size: 0.6rem;\n",
              "  font-weight: lighter;\n",
              "  color: var(--sklearn-color-text-muted);\n",
              "}\n",
              "\n",
              "#sk-container-id-2 label.sk-toggleable__label-arrow:before {\n",
              "  /* Arrow on the left of the label */\n",
              "  content: \"▸\";\n",
              "  float: left;\n",
              "  margin-right: 0.25em;\n",
              "  color: var(--sklearn-color-icon);\n",
              "}\n",
              "\n",
              "#sk-container-id-2 label.sk-toggleable__label-arrow:hover:before {\n",
              "  color: var(--sklearn-color-text);\n",
              "}\n",
              "\n",
              "/* Toggleable content - dropdown */\n",
              "\n",
              "#sk-container-id-2 div.sk-toggleable__content {\n",
              "  max-height: 0;\n",
              "  max-width: 0;\n",
              "  overflow: hidden;\n",
              "  text-align: left;\n",
              "  /* unfitted */\n",
              "  background-color: var(--sklearn-color-unfitted-level-0);\n",
              "}\n",
              "\n",
              "#sk-container-id-2 div.sk-toggleable__content.fitted {\n",
              "  /* fitted */\n",
              "  background-color: var(--sklearn-color-fitted-level-0);\n",
              "}\n",
              "\n",
              "#sk-container-id-2 div.sk-toggleable__content pre {\n",
              "  margin: 0.2em;\n",
              "  border-radius: 0.25em;\n",
              "  color: var(--sklearn-color-text);\n",
              "  /* unfitted */\n",
              "  background-color: var(--sklearn-color-unfitted-level-0);\n",
              "}\n",
              "\n",
              "#sk-container-id-2 div.sk-toggleable__content.fitted pre {\n",
              "  /* unfitted */\n",
              "  background-color: var(--sklearn-color-fitted-level-0);\n",
              "}\n",
              "\n",
              "#sk-container-id-2 input.sk-toggleable__control:checked~div.sk-toggleable__content {\n",
              "  /* Expand drop-down */\n",
              "  max-height: 200px;\n",
              "  max-width: 100%;\n",
              "  overflow: auto;\n",
              "}\n",
              "\n",
              "#sk-container-id-2 input.sk-toggleable__control:checked~label.sk-toggleable__label-arrow:before {\n",
              "  content: \"▾\";\n",
              "}\n",
              "\n",
              "/* Pipeline/ColumnTransformer-specific style */\n",
              "\n",
              "#sk-container-id-2 div.sk-label input.sk-toggleable__control:checked~label.sk-toggleable__label {\n",
              "  color: var(--sklearn-color-text);\n",
              "  background-color: var(--sklearn-color-unfitted-level-2);\n",
              "}\n",
              "\n",
              "#sk-container-id-2 div.sk-label.fitted input.sk-toggleable__control:checked~label.sk-toggleable__label {\n",
              "  background-color: var(--sklearn-color-fitted-level-2);\n",
              "}\n",
              "\n",
              "/* Estimator-specific style */\n",
              "\n",
              "/* Colorize estimator box */\n",
              "#sk-container-id-2 div.sk-estimator input.sk-toggleable__control:checked~label.sk-toggleable__label {\n",
              "  /* unfitted */\n",
              "  background-color: var(--sklearn-color-unfitted-level-2);\n",
              "}\n",
              "\n",
              "#sk-container-id-2 div.sk-estimator.fitted input.sk-toggleable__control:checked~label.sk-toggleable__label {\n",
              "  /* fitted */\n",
              "  background-color: var(--sklearn-color-fitted-level-2);\n",
              "}\n",
              "\n",
              "#sk-container-id-2 div.sk-label label.sk-toggleable__label,\n",
              "#sk-container-id-2 div.sk-label label {\n",
              "  /* The background is the default theme color */\n",
              "  color: var(--sklearn-color-text-on-default-background);\n",
              "}\n",
              "\n",
              "/* On hover, darken the color of the background */\n",
              "#sk-container-id-2 div.sk-label:hover label.sk-toggleable__label {\n",
              "  color: var(--sklearn-color-text);\n",
              "  background-color: var(--sklearn-color-unfitted-level-2);\n",
              "}\n",
              "\n",
              "/* Label box, darken color on hover, fitted */\n",
              "#sk-container-id-2 div.sk-label.fitted:hover label.sk-toggleable__label.fitted {\n",
              "  color: var(--sklearn-color-text);\n",
              "  background-color: var(--sklearn-color-fitted-level-2);\n",
              "}\n",
              "\n",
              "/* Estimator label */\n",
              "\n",
              "#sk-container-id-2 div.sk-label label {\n",
              "  font-family: monospace;\n",
              "  font-weight: bold;\n",
              "  display: inline-block;\n",
              "  line-height: 1.2em;\n",
              "}\n",
              "\n",
              "#sk-container-id-2 div.sk-label-container {\n",
              "  text-align: center;\n",
              "}\n",
              "\n",
              "/* Estimator-specific */\n",
              "#sk-container-id-2 div.sk-estimator {\n",
              "  font-family: monospace;\n",
              "  border: 1px dotted var(--sklearn-color-border-box);\n",
              "  border-radius: 0.25em;\n",
              "  box-sizing: border-box;\n",
              "  margin-bottom: 0.5em;\n",
              "  /* unfitted */\n",
              "  background-color: var(--sklearn-color-unfitted-level-0);\n",
              "}\n",
              "\n",
              "#sk-container-id-2 div.sk-estimator.fitted {\n",
              "  /* fitted */\n",
              "  background-color: var(--sklearn-color-fitted-level-0);\n",
              "}\n",
              "\n",
              "/* on hover */\n",
              "#sk-container-id-2 div.sk-estimator:hover {\n",
              "  /* unfitted */\n",
              "  background-color: var(--sklearn-color-unfitted-level-2);\n",
              "}\n",
              "\n",
              "#sk-container-id-2 div.sk-estimator.fitted:hover {\n",
              "  /* fitted */\n",
              "  background-color: var(--sklearn-color-fitted-level-2);\n",
              "}\n",
              "\n",
              "/* Specification for estimator info (e.g. \"i\" and \"?\") */\n",
              "\n",
              "/* Common style for \"i\" and \"?\" */\n",
              "\n",
              ".sk-estimator-doc-link,\n",
              "a:link.sk-estimator-doc-link,\n",
              "a:visited.sk-estimator-doc-link {\n",
              "  float: right;\n",
              "  font-size: smaller;\n",
              "  line-height: 1em;\n",
              "  font-family: monospace;\n",
              "  background-color: var(--sklearn-color-background);\n",
              "  border-radius: 1em;\n",
              "  height: 1em;\n",
              "  width: 1em;\n",
              "  text-decoration: none !important;\n",
              "  margin-left: 0.5em;\n",
              "  text-align: center;\n",
              "  /* unfitted */\n",
              "  border: var(--sklearn-color-unfitted-level-1) 1pt solid;\n",
              "  color: var(--sklearn-color-unfitted-level-1);\n",
              "}\n",
              "\n",
              ".sk-estimator-doc-link.fitted,\n",
              "a:link.sk-estimator-doc-link.fitted,\n",
              "a:visited.sk-estimator-doc-link.fitted {\n",
              "  /* fitted */\n",
              "  border: var(--sklearn-color-fitted-level-1) 1pt solid;\n",
              "  color: var(--sklearn-color-fitted-level-1);\n",
              "}\n",
              "\n",
              "/* On hover */\n",
              "div.sk-estimator:hover .sk-estimator-doc-link:hover,\n",
              ".sk-estimator-doc-link:hover,\n",
              "div.sk-label-container:hover .sk-estimator-doc-link:hover,\n",
              ".sk-estimator-doc-link:hover {\n",
              "  /* unfitted */\n",
              "  background-color: var(--sklearn-color-unfitted-level-3);\n",
              "  color: var(--sklearn-color-background);\n",
              "  text-decoration: none;\n",
              "}\n",
              "\n",
              "div.sk-estimator.fitted:hover .sk-estimator-doc-link.fitted:hover,\n",
              ".sk-estimator-doc-link.fitted:hover,\n",
              "div.sk-label-container:hover .sk-estimator-doc-link.fitted:hover,\n",
              ".sk-estimator-doc-link.fitted:hover {\n",
              "  /* fitted */\n",
              "  background-color: var(--sklearn-color-fitted-level-3);\n",
              "  color: var(--sklearn-color-background);\n",
              "  text-decoration: none;\n",
              "}\n",
              "\n",
              "/* Span, style for the box shown on hovering the info icon */\n",
              ".sk-estimator-doc-link span {\n",
              "  display: none;\n",
              "  z-index: 9999;\n",
              "  position: relative;\n",
              "  font-weight: normal;\n",
              "  right: .2ex;\n",
              "  padding: .5ex;\n",
              "  margin: .5ex;\n",
              "  width: min-content;\n",
              "  min-width: 20ex;\n",
              "  max-width: 50ex;\n",
              "  color: var(--sklearn-color-text);\n",
              "  box-shadow: 2pt 2pt 4pt #999;\n",
              "  /* unfitted */\n",
              "  background: var(--sklearn-color-unfitted-level-0);\n",
              "  border: .5pt solid var(--sklearn-color-unfitted-level-3);\n",
              "}\n",
              "\n",
              ".sk-estimator-doc-link.fitted span {\n",
              "  /* fitted */\n",
              "  background: var(--sklearn-color-fitted-level-0);\n",
              "  border: var(--sklearn-color-fitted-level-3);\n",
              "}\n",
              "\n",
              ".sk-estimator-doc-link:hover span {\n",
              "  display: block;\n",
              "}\n",
              "\n",
              "/* \"?\"-specific style due to the `<a>` HTML tag */\n",
              "\n",
              "#sk-container-id-2 a.estimator_doc_link {\n",
              "  float: right;\n",
              "  font-size: 1rem;\n",
              "  line-height: 1em;\n",
              "  font-family: monospace;\n",
              "  background-color: var(--sklearn-color-background);\n",
              "  border-radius: 1rem;\n",
              "  height: 1rem;\n",
              "  width: 1rem;\n",
              "  text-decoration: none;\n",
              "  /* unfitted */\n",
              "  color: var(--sklearn-color-unfitted-level-1);\n",
              "  border: var(--sklearn-color-unfitted-level-1) 1pt solid;\n",
              "}\n",
              "\n",
              "#sk-container-id-2 a.estimator_doc_link.fitted {\n",
              "  /* fitted */\n",
              "  border: var(--sklearn-color-fitted-level-1) 1pt solid;\n",
              "  color: var(--sklearn-color-fitted-level-1);\n",
              "}\n",
              "\n",
              "/* On hover */\n",
              "#sk-container-id-2 a.estimator_doc_link:hover {\n",
              "  /* unfitted */\n",
              "  background-color: var(--sklearn-color-unfitted-level-3);\n",
              "  color: var(--sklearn-color-background);\n",
              "  text-decoration: none;\n",
              "}\n",
              "\n",
              "#sk-container-id-2 a.estimator_doc_link.fitted:hover {\n",
              "  /* fitted */\n",
              "  background-color: var(--sklearn-color-fitted-level-3);\n",
              "}\n",
              "</style><div id=\"sk-container-id-2\" class=\"sk-top-container\"><div class=\"sk-text-repr-fallback\"><pre>RandomForestClassifier()</pre><b>In a Jupyter environment, please rerun this cell to show the HTML representation or trust the notebook. <br />On GitHub, the HTML representation is unable to render, please try loading this page with nbviewer.org.</b></div><div class=\"sk-container\" hidden><div class=\"sk-item\"><div class=\"sk-estimator fitted sk-toggleable\"><input class=\"sk-toggleable__control sk-hidden--visually\" id=\"sk-estimator-id-2\" type=\"checkbox\" checked><label for=\"sk-estimator-id-2\" class=\"sk-toggleable__label fitted sk-toggleable__label-arrow\"><div><div>RandomForestClassifier</div></div><div><a class=\"sk-estimator-doc-link fitted\" rel=\"noreferrer\" target=\"_blank\" href=\"https://scikit-learn.org/1.6/modules/generated/sklearn.ensemble.RandomForestClassifier.html\">?<span>Documentation for RandomForestClassifier</span></a><span class=\"sk-estimator-doc-link fitted\">i<span>Fitted</span></span></div></label><div class=\"sk-toggleable__content fitted\"><pre>RandomForestClassifier()</pre></div> </div></div></div></div>"
            ],
            "text/plain": [
              "RandomForestClassifier()"
            ]
          },
          "execution_count": 60,
          "metadata": {},
          "output_type": "execute_result"
        }
      ],
      "source": [
        "model = RandomForestClassifier()\n",
        "model.fit(X_train, y_train)"
      ]
    },
    {
      "cell_type": "code",
      "execution_count": 61,
      "metadata": {
        "id": "Yp38rDucn6eI"
      },
      "outputs": [],
      "source": [
        "# model = DecisionTreeClassifier(\n",
        "#     criterion=\"gini\",\n",
        "#     max_depth=5,\n",
        "#     min_samples_split=7,\n",
        "#     min_samples_leaf=7,\n",
        "#     max_features=\"sqrt\",\n",
        "#     random_state=42\n",
        "# )\n",
        "# model.fit(X_train, y_train)"
      ]
    },
    {
      "cell_type": "code",
      "execution_count": 62,
      "metadata": {
        "colab": {
          "base_uri": "https://localhost:8080/"
        },
        "id": "JCBok6QimPEy",
        "outputId": "72ed060c-fa65-4ccf-f0ba-9c349ba14c77"
      },
      "outputs": [
        {
          "name": "stdout",
          "output_type": "stream",
          "text": [
            "Accuracy: 0.53\n",
            "Classification Report:\n",
            "               precision    recall  f1-score   support\n",
            "\n",
            "           0       0.54      0.56      0.55       102\n",
            "           1       0.52      0.50      0.51        98\n",
            "\n",
            "    accuracy                           0.53       200\n",
            "   macro avg       0.53      0.53      0.53       200\n",
            "weighted avg       0.53      0.53      0.53       200\n",
            "\n",
            "Confusion Matrix:\n",
            " [[57 45]\n",
            " [49 49]]\n"
          ]
        }
      ],
      "source": [
        "y_pred = model.predict(X_test)\n",
        "\n",
        "accuracy = accuracy_score(y_test, y_pred)\n",
        "print(f\"Accuracy: {accuracy:.2f}\")\n",
        "print(\"Classification Report:\\n\", classification_report(y_test, y_pred))\n",
        "print(\"Confusion Matrix:\\n\", confusion_matrix(y_test, y_pred))\n"
      ]
    },
    {
      "cell_type": "code",
      "execution_count": 63,
      "metadata": {
        "id": "mFmM4eldppNQ"
      },
      "outputs": [],
      "source": [
        "import pickle\n",
        "with open('model.pkl','wb') as f:\n",
        "  pickle.dump(model,f)"
      ]
    },
    {
      "cell_type": "code",
      "execution_count": 64,
      "metadata": {
        "id": "OMEAQnK5py0Z"
      },
      "outputs": [],
      "source": [
        "with open('scaler.pkl','wb') as f:\n",
        "  pickle.dump(scaler,f)"
      ]
    }
  ],
  "metadata": {
    "colab": {
      "provenance": []
    },
    "kernelspec": {
      "display_name": "Python 3",
      "name": "python3"
    },
    "language_info": {
      "codemirror_mode": {
        "name": "ipython",
        "version": 3
      },
      "file_extension": ".py",
      "mimetype": "text/x-python",
      "name": "python",
      "nbconvert_exporter": "python",
      "pygments_lexer": "ipython3",
      "version": "3.12.4"
    }
  },
  "nbformat": 4,
  "nbformat_minor": 0
}
